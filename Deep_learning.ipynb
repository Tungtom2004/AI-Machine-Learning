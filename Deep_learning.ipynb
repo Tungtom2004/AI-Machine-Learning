{
  "nbformat": 4,
  "nbformat_minor": 0,
  "metadata": {
    "colab": {
      "name": "Deep learning.ipynb",
      "provenance": [],
      "collapsed_sections": [
        "Gt322FDIJ2Tm",
        "OkWKIxQmBrfX",
        "5KOUpG_gHydR",
        "7wXFj8e_XvmU",
        "wiQA4oMLX5LL"
      ],
      "include_colab_link": true
    },
    "kernelspec": {
      "name": "python3",
      "display_name": "Python 3"
    },
    "language_info": {
      "name": "python"
    },
    "accelerator": "GPU"
  },
  "cells": [
    {
      "cell_type": "markdown",
      "metadata": {
        "id": "view-in-github",
        "colab_type": "text"
      },
      "source": [
        "<a href=\"https://colab.research.google.com/github/phuongnam2002/AI-Machine-Learning/blob/main/Deep_learning.ipynb\" target=\"_parent\"><img src=\"https://colab.research.google.com/assets/colab-badge.svg\" alt=\"Open In Colab\"/></a>"
      ]
    },
    {
      "cell_type": "markdown",
      "metadata": {
        "id": "-lNB13ietE5Q"
      },
      "source": [
        "<h1>Deep Learning</h1>\n",
        "\n",
        "---\n",
        "1. Khái Niệm?\n",
        "1. Qúa trình Deep learning\n",
        "1. Biến Thể của Deep Learning Networks\n",
        "1. Ứng dụng\n",
        "1. Hạn Chế\n",
        "1. 1 số định nghĩa\n",
        "\n",
        "\n"
      ]
    },
    {
      "cell_type": "markdown",
      "metadata": {
        "id": "hXMrMjFP3IaC"
      },
      "source": [
        "#1. Khái niệm"
      ]
    },
    {
      "cell_type": "markdown",
      "metadata": {
        "id": "IuVTopz09LMj"
      },
      "source": [
        "**Deep Learning** là một phần mềm máy tính mô phỏng mạng lưới tế bào thần kinh trong não. Nó là một nhánh con của học máy dựa trên mạng neuron nhân tạo với học biểu diễn _(representation learning)_. Nó được gọi là học sâu vì nó sử dụng mạng neuron sâu _(deep neural networks)_. Việc học này có thể là supervised, semi-supervised or unsupervised. \n",
        "\n",
        "![hierachy](https://s7280.pcdn.co/wp-content/uploads/2020/07/artificaial-intelligence.png)\n",
        "\n",
        "Deep learning algorithms cấu trúc bằng việc kết nối các layers.\n",
        "- Lớp đầu tiên được gọi là Input Layer\n",
        "- Lớp cuối cùng được gọi là Output Layer\n",
        "- Tất cả các lớp ở giữa được gọi là Hidden Layers. Từ \"deep\" có nghĩa là mạng liên kết các neurons có nhiều hơn hai layer.\n",
        "\n",
        "![WhatIsDeepLearning](https://www.guru99.com/images/tensorflow/083018_0542_WhatisDeepl1.png)"
      ]
    },
    {
      "cell_type": "markdown",
      "metadata": {
        "id": "jds0F-B69rrL"
      },
      "source": [
        "#2. Quá Trình Deep Learning"
      ]
    },
    {
      "cell_type": "markdown",
      "metadata": {
        "id": "WLdmvRJI91P5"
      },
      "source": [
        "A deep neural network làm tăng độ chính xác của nhiều tác vụ, từ nhận diện hình ảnh đến nhận dạng giọng nói. Chúng có thể học tự động mà không cần kiến ​​thức xác định trước và không cần được lập trình viên mã hóa rõ ràng.\n",
        "\n",
        "![DeepLearningProcess](https://www.guru99.com/images/tensorflow/083018_0542_WhatisDeepl2.png)\n",
        "\n",
        "\n",
        "Để nắm bắt ý tưởng của học sâu, hãy tưởng tượng một gia đình, gồm một đứa trẻ sơ sinh và cha mẹ. Khi Trẻ mới biết đi, nó chỉ đồ vật bằng ngón tay chỏ và luôn nói từ 'mèo'. Cha mẹ của nó lo lắng về việc học này có nó, họ liên tục nói với đứa bé 'Đúng, đó là một con mèo' hoặc 'Không, đó không phải là một con mèo'. Đứa bé vẫn tiếp tục chỉ vào các đồ vật và nói nhưng nó đã dần trở lên chính xác hơn khi chỉ ra có phải 'mèo' hay không. Đứa nhỏ, trong sâu thẳm, không biết tại sao nó có thể nói đó là một con mèo hay không. Nó vừa học được cách phân cấp các đặc điểm phức tạp của một con mèo bằng cách xem xét tổng thể con vật và tiếp tục tập trung vào các chi tiết như đuôi hoặc mũi trước đó để đưa ra quyết định.\n",
        "\n",
        "Mạng neuron làm việc tương tự. Mỗi layer đại diện cho một cấp độ hiểu biết. Mạng neural với 4 layers sẽ phân biệt được những đặc trưng phức tạp của vật thể hơn là cái có 2 layers."
      ]
    },
    {
      "cell_type": "markdown",
      "metadata": {
        "id": "dKMzD84zEILy"
      },
      "source": [
        "Việc học gồm có 2 giai đoạn:\n",
        "- Giai đoạn đầu tiên bao gồm việc áp dụng một phép biến đổi phi tuyến để chuyển data thành thành Input và tạo ra một mô hình thống kê _(như  mạng neuron)_ để có Output. \n",
        "- Giai đoạn thứ hai nhằm mục đích cải thiện mô hình bằng một phương pháp toán học được gọi là đạo hàm.\n",
        "\n",
        "The neural network lặp đi lặp lại 2 giai đoạn trên hàng trăm ngàn lần cho đến khi đạt được độ chính xác chấp nhận được. Cái việc lặp 2 giai đoạn đó gọi là iteration.\n"
      ]
    },
    {
      "cell_type": "markdown",
      "metadata": {
        "id": "u1Gj5WM_JwVG"
      },
      "source": [
        "#3. Phân Loại Neural Networks"
      ]
    },
    {
      "cell_type": "markdown",
      "metadata": {
        "id": "TPf2CVZF5him"
      },
      "source": [
        "##Shallow neural network\n",
        "chỉ có một hidden layer giữa đầu vào và đầu ra."
      ]
    },
    {
      "cell_type": "markdown",
      "metadata": {
        "id": "Gt322FDIJ2Tm"
      },
      "source": [
        "##Deep neural network\n",
        "có nhiều hơn một hidden layer."
      ]
    },
    {
      "cell_type": "markdown",
      "metadata": {
        "id": "V1bmo0M35uwr"
      },
      "source": [
        "![Deep neural network](https://nordiccoder.com/app/uploads/2019/10/Screen-Shot-2019-10-17-at-3.30.07-PM.png)\n",
        "\n",
        "![Deep neutral network](https://i2.wp.com/nttuan8.com/wp-content/uploads/2019/03/nn_full-2.png?resize=578%2C377&ssl=1)"
      ]
    },
    {
      "cell_type": "markdown",
      "metadata": {
        "id": "OkWKIxQmBrfX"
      },
      "source": [
        "###**Feedforward**\n"
      ]
    },
    {
      "cell_type": "markdown",
      "metadata": {
        "id": "U63qiINgWTkE"
      },
      "source": [
        "Để nhất quán về mặt ký hiệu, gọi input layer là $a^{(0)} (=x)\n",
        "$ kích thước 2 * 1.\n",
        "\n",
        "![Pheptinh](https://i2.wp.com/nttuan8.com/wp-content/uploads/2019/03/CodeCogsEqn-1.gif?resize=517%2C150&ssl=1)\n",
        "\n",
        "Tương tự ta có:\n",
        "\n",
        "$z^{(2)} =(W^{(2)})^{T} ∗ a^{(1)}+b^{(2)}$\n",
        "\n",
        "$a^{(2)} = σ(z^{(2)})$\n",
        "\n",
        "$z^{(3)} =(W^{(3)})^{T} ∗ a^{(2)}+b^{(3)}$\n",
        "\n",
        "$y^{hat} = a^{(3)} = σ(z^{(3)})$\n",
        "\n",
        "![feedforward](https://i1.wp.com/nttuan8.com/wp-content/uploads/2019/03/fw.png?resize=1024%2C98&ssl=1)"
      ]
    },
    {
      "cell_type": "markdown",
      "metadata": {
        "id": "5KOUpG_gHydR"
      },
      "source": [
        "###**Backpropagation**\n",
        "\n",
        "\n"
      ]
    },
    {
      "cell_type": "markdown",
      "metadata": {
        "id": "PvNXXH08Wh4V"
      },
      "source": [
        "Giả sử $J(W,b,X,Y)$ là một hàm mất mát của bài toán, trong đó $W,b$ là tập hợp tất cả các ma trận trọng số giữa các layers và biases của mỗi layer. $X,Y$ là cặp dữ liệu huấn luyện với mỗi cột tương ứng với một điểm dữ liệu. Để có thể áp dụng các **gradient-based methods** (mà **Gradient Descent** là một ví dụ), chúng ta cần tính được:\n",
        "\n",
        " $\\frac{∂J}{W^{(l)}};\\frac{∂J}{∂b^{(l)}},  l=1,2,…,L$\n",
        "\n",
        "Đạo hàm của hàm mất mát theo _chỉ một thành phần_ của ma trận trọng số của lớp cuối cùng:\n",
        "\n",
        "$\\frac{∂J}{∂w^{(L)}_{ij}}=\\frac{∂J}{∂z^{(L)}_{j}}.\\frac{∂z^{(L)}_{j}}{∂w^{(L)}_{ij}} =e^{(L)}_{j}a^{(L−1)}_{i}$\n",
        "\n",
        "Trong đó $e^{(L)}_{j}=\\frac{∂J}{∂z^{(L)}_{j}}$ thường là một đại lượng dễ tính toán và $\\frac{∂z^{(L)}_{j}}{∂w^{(L)}_{ij}}=a^{(L−1)}_{i}$ vì $ z^{(L)}_{j}=w^{(L)T}_{j}a^{(L−1)}+b^{(L)}_{j}$.\n",
        "\n",
        "Tương tự như thế, đạo hàm của hàm mất mát theo **bias** của layer cuối cùng là: \n",
        "\n",
        "$\\frac{∂J}{∂b^{(L)}_{j}}=\\frac{∂J}{∂z^{(L)}_{j}}.\\frac{∂z^{(L)}_{j}}{∂b^{(L)}_{j}}=e^{(L)}_{j}$\n",
        "\n",
        "Với đạo hàm theo hệ số ở các lớp l thấp hơn, chúng ta hay xem hình dưới đây. Ở đây, tại mỗi unit, tôi đã viết riêng đầu vào z và đầu ra a để các bạn tiện theo dõi.\n",
        "\n",
        "![gradient](https://machinelearningcoban.com/assets/14_mlp/backpropagation.png)\n",
        "\n",
        "Dựa vào hính trên, ta có thể tính được:\n",
        "\n",
        "$\\frac{∂J}{∂w^{(L)}_{ij}}=\\frac{∂J}{∂z^{(L)}_{j}}.\\frac{∂z^{(L)}_{j}}{∂w^{(L)}_{ij}} =e^{(L)}_{j}a^{(L−1)}_{i}$\n",
        "\n",
        "$e^{(l)}_{j} = (w^{(l+1)}_{j:} e^{(l+1)}) f′(z^{(l)}_{j})$\n",
        "\n",
        "$w^{(l+1)}_{j}$: được hiểu là hàng thứ $j$ của ma trận $W^{(l+1)}$ (Chú ý dấu hai chấm, khi không có dấu này, tôi mặc định ký hiệu nó cho vector cột).\n",
        "\n",
        "[Details](https://machinelearningcoban.com/2017/02/24/mlp/)\n",
        "\n",
        "![process](https://i2.wp.com/nttuan8.com/wp-content/uploads/2019/03/backpropagation-2.png?resize=1024%2C168&ssl=1)\n",
        "\n"
      ]
    },
    {
      "cell_type": "markdown",
      "metadata": {
        "id": "XH0opAKcP4s6"
      },
      "source": [
        "####**Backpropagation cho Stochastic Gradient Descent**\n",
        "\n",
        "**Đạo hàm theo từng hệ số** $w^{(l)}_{ij},b^{(l)}_{i}$\n",
        "1. Bước feedforward: Với 1 giá trị đầu vào **x**, tính giá trị đầu ra của network, trong quá trình tính toán, lưu lại các activation $a^{(l)}$ tại mỗi layer.\n",
        "\n",
        "1. Với mỗi unit $j$ ở output layer, tính \n",
        "$e^{(L)}_{j}=\\frac{∂J}{∂z^{(L)}_{j}}$\n",
        "\n",
        "1. Từ đó suy ra: \n",
        "$\\frac{∂J}{∂w^{(L)}_{ij}}= a^{(L−1)}_{i} e^{(L)}_{j} \\frac{∂J}{∂b^{(L)}_{j}} = e^{(L)}_{j}$\n",
        "\n",
        "1. Với $l=L−1,L−2,…,1,$ tính:  \n",
        "$e^{(l)}_{j} = (w^{(l+1)}_{j:} e^{(l+1)}) f′(z^{(l)}_{j})$\n",
        "\n",
        "1. Cập nhật đạo hàm cho từng hệ số:\n",
        "$\\frac{∂J}{∂w^{(L)}_{ij}}= a^{(L−1)}_{i} e^{(L)}_{j} \\frac{∂J}{∂b^{(L)}_{j}} = e^{(L)}_{j}$\n",
        "\n",
        "**Đạo hàm theo ma trận** $W^{(l)}, b^{(l)}$\n",
        "Việc tính toán theo từng hệ số như trên chỉ phù hợp cho việc hiểu nguyên lý tính toán, trong khi lập trình, ta cần tìm cách thu gọn chúng về dạng vector và ma trận để tăng tốc độ cho thuật toán. Đặt $e^{(l)}=[e^{(l)}_{1},e^{(l)}_{2},…,e^{(l)}_{l}]^{T} ∈R^{d^{(l)}×1}$ Ta sẽ có quy tắc tính như sau:\n",
        "\n",
        "1. Bước feedforward: Với 1 giá trị đầu vào **x**, tính giá trị đầu ra của network, trong quá trình tính toán, lưu lại các activation $a^{(l)}$ tại mỗi layer.\n",
        "\n",
        "1. Với output layer, tính:\n",
        "$e^{(L)}=\\frac{∂J}{∂z^{(L)}}$\n",
        "\n",
        "1. Từ đó suy ra: \n",
        "$\\frac{∂J}{∂W^{(l)}}=a^{(l−1)}e^{(l)T} \\frac{∂J}{∂b^{(l)}}=e^{(l)}$\n",
        "\n",
        "1. Với $l=L−1,L−2,…,1,$ tính: \n",
        "$e^{(l)}=(W^{(l+1)}e^{(l+1)})⊙f′(z^{(l)})$\n",
        "\n",
        "trong đó $⊙$ là element-wise product hay Hadamard product tức lấy từng thành phần của hai vector nhân với nhau để được vector kết quả.\n",
        "\n",
        "5. Cập nhật đạo hàm cho ma trận trọng số và vector biases:\n",
        "$\\frac{∂J}{∂W^{(l)}}=a^{(l−1)}e^{(l)T} \\frac{∂J}{∂b^{(l)}}=e^{(l)}$"
      ]
    },
    {
      "cell_type": "markdown",
      "metadata": {
        "id": "ZUV-UaboW50t"
      },
      "source": [
        "####**Python Code**"
      ]
    },
    {
      "cell_type": "markdown",
      "metadata": {
        "id": "7wXFj8e_XvmU"
      },
      "source": [
        "#####**Code 1**\n",
        "Bài toán dự đoán label khi biết tọa độ (x,y) của một điểm.\n",
        "\n",
        "Áp dụng Batch Gradient Descent cho bài toán này (vì lượng dữ liệu là nhỏ)\n",
        "\n",
        "![model](https://machinelearningcoban.com/assets/14_mlp/ex_nn.png)\n"
      ]
    },
    {
      "cell_type": "markdown",
      "metadata": {
        "id": "EGXAs2iNXmtx"
      },
      "source": [
        "**Tạo dữ liệu giả**"
      ]
    },
    {
      "cell_type": "code",
      "metadata": {
        "colab": {
          "base_uri": "https://localhost:8080/",
          "height": 269
        },
        "id": "WArQ1Yr8XHKP",
        "outputId": "d7b685fe-cb09-462b-fd66-612620f58432"
      },
      "source": [
        "#To support both python 2 and python 3\n",
        "from __future__ import division, print_function, unicode_literals\n",
        "import math\n",
        "import numpy as np\n",
        "import matplotlib.pyplot as plt\n",
        "\n",
        "N = 100 # number of points per class\n",
        "d0 = 2 # dimensionality\n",
        "C = 3 # number of classes\n",
        "X = np.zeros((d0, N*C)) # data matrix (each row = single example)(2,300)\n",
        "y = np.zeros(N*C, dtype='uint8') # class labels\n",
        "\n",
        "for j in range(C):\n",
        "  ix = range(N*j,N*(j+1))\n",
        "  r = np.linspace(0.0,1,N) # radius\n",
        "  t = np.linspace(j*4,(j+1)*4,N) + np.random.randn(N)*0.2 # theta\n",
        "  X[:,ix] = np.c_[r*np.sin(t), r*np.cos(t)].T\n",
        "  y[ix] = j\n",
        "# lets visualize the data:\n",
        "# plt.scatter(X[:N, 0], X[:N, 1], c=y[:N], s=40, cmap=plt.cm.Spectral)\n",
        "\n",
        "plt.plot(X[0, :N], X[1, :N], 'bs', markersize = 7);\n",
        "plt.plot(X[0, N:2*N], X[1, N:2*N], 'ro', markersize = 7);\n",
        "plt.plot(X[0, 2*N:], X[1, 2*N:], 'g^', markersize = 7);\n",
        "# plt.axis('off')\n",
        "plt.xlim([-1.5, 1.5])\n",
        "plt.ylim([-1.5, 1.5])\n",
        "cur_axes = plt.gca()\n",
        "cur_axes.axes.get_xaxis().set_ticks([])\n",
        "cur_axes.axes.get_yaxis().set_ticks([])\n",
        "\n",
        "# plt.savefig('EX.png', bbox_inches='tight', dpi = 600)\n",
        "plt.show()\n",
        "\n",
        "print(X.shape, y.shape)"
      ],
      "execution_count": null,
      "outputs": [
        {
          "output_type": "display_data",
          "data": {
            "image/png": "[encoded data removed]",
            "text/plain": [
              "<Figure size 432x288 with 1 Axes>"
            ]
          },
          "metadata": {
            "tags": []
          }
        },
        {
          "output_type": "stream",
          "text": [
            "(2, 300) (300,)\n"
          ],
          "name": "stdout"
        }
      ]
    },
    {
      "cell_type": "markdown",
      "metadata": {
        "id": "6iHq-feIdNlQ"
      },
      "source": [
        "**Một số hàm phụ trợ**"
      ]
    },
    {
      "cell_type": "code",
      "metadata": {
        "id": "GIogvCv1YboC"
      },
      "source": [
        "def softmax(V):\n",
        "    e_V = np.exp(V - np.max(V, axis = 0, keepdims = True))\n",
        "    Z = e_V / e_V.sum(axis = 0)\n",
        "    return Z\n",
        "\n",
        "## One-hot coding\n",
        "from scipy import sparse\n",
        "def convert_labels(y, C = 3):\n",
        "    Y = sparse.coo_matrix((np.ones_like(y),\n",
        "        (y, np.arange(len(y)))), shape = (C, len(y))).toarray()\n",
        "    return Y\n",
        "\n",
        "# cost or loss function\n",
        "def cost(Y, Yhat):\n",
        "    return -np.sum(Y*np.log(Yhat))/Y.shape[1]\n"
      ],
      "execution_count": null,
      "outputs": []
    },
    {
      "cell_type": "markdown",
      "metadata": {
        "id": "PQZxPxxWdSv2"
      },
      "source": [
        "**Tính toán Feedforward**\n",
        "\n",
        "$Z^{(1)}=W^{(1)T}X$\n",
        "\n",
        "$A^{(1)}=max(Z^{(1)},0) $\n",
        "\n",
        "$Z^{(2)}=W^{(2)T}A^{(1)} $\n",
        "\n",
        "$Y^{hat}=A^{(2)} = softmax(Z^{(2)})$\n",
        "\n",
        "**Tính toán Backpropagation**\n",
        "\n",
        "$E^{(2)}=\\frac{∂J}{∂Z^{(2)}}=\\frac{1}{N}(Y^{hat}−Y)$ \n",
        "\n",
        "$\\frac{∂J}{∂W^{(2)}}=A^{(1)}E^{(2)T}$ \n",
        "\n",
        "$\\frac{∂J}{∂b^{(2)}} = ∑_{n=1}^{N} e^{(2)}_{n}$\n",
        "\n",
        "\n",
        "$E^{(1)}=(W^{(2)}E^{(2)})⊙f′(Z^{(1)})$\n",
        "\n",
        "$\\frac{∂J}{∂W^{(1)}}=A^{(0)}E^{(1)T}=XE^{(1)T}$\n",
        "\n",
        "$\\frac{∂J}{∂b^{(1)}}=∑_{n=1}^{N}e^{(1)}_{n}$\n"
      ]
    },
    {
      "cell_type": "code",
      "metadata": {
        "colab": {
          "base_uri": "https://localhost:8080/"
        },
        "id": "OeXER6x7ZLIm",
        "outputId": "1804c3d9-1853-4dd6-fc20-0df854b86176"
      },
      "source": [
        "d0 = 2\n",
        "d1 = h = 100 # size of hidden layer\n",
        "d2 = C = 3\n",
        "# initialize parameters randomly\n",
        "W1 = 0.01*np.random.randn(d0, d1)\n",
        "b1 = np.zeros((d1, 1))\n",
        "W2 = 0.01*np.random.randn(d1, d2)\n",
        "b2 = np.zeros((d2, 1))\n",
        "\n",
        "Y = convert_labels(y, C)\n",
        "N = X.shape[1]\n",
        "eta = 1 # learning rate\n",
        "for i in range(10000):\n",
        "    ## Feedforward\n",
        "    Z1 = np.dot(W1.T, X) + b1\n",
        "    A1 = np.maximum(Z1, 0) #activation function ReLU\n",
        "    \n",
        "    Z2 = np.dot(W2.T, A1) + b2\n",
        "    Yhat = softmax(Z2) #activation function sofmax\n",
        "\n",
        "    # print loss after each 1000 iterations\n",
        "    if i %1000 == 0:\n",
        "        # compute the loss: average cross-entropy loss\n",
        "        loss = cost(Y, Yhat)\n",
        "        print(\"iter %d, loss: %f\" %(i, loss))\n",
        "\n",
        "    # backpropagation\n",
        "    E2 = (Yhat - Y )/N\n",
        "    dW2 = np.dot(A1, E2.T)\n",
        "    db2 = np.sum(E2, axis = 1, keepdims = True)\n",
        "\n",
        "    E1 = np.dot(W2, E2)\n",
        "    E1[Z1 <= 0] = 0 # gradient of ReLU\n",
        "    dW1 = np.dot(X, E1.T)\n",
        "    db1 = np.sum(E1, axis = 1, keepdims = True)\n",
        "\n",
        "    # Gradient Descent update\n",
        "    W1 += -eta*dW1\n",
        "    b1 += -eta*db1\n",
        "    W2 += -eta*dW2\n",
        "    b2 += -eta*db2\n"
      ],
      "execution_count": null,
      "outputs": [
        {
          "output_type": "stream",
          "text": [
            "iter 0, loss: 1.098443\n",
            "iter 1000, loss: 0.116711\n",
            "iter 2000, loss: 0.052075\n",
            "iter 3000, loss: 0.037044\n",
            "iter 4000, loss: 0.030016\n",
            "iter 5000, loss: 0.026162\n",
            "iter 6000, loss: 0.023709\n",
            "iter 7000, loss: 0.021936\n",
            "iter 8000, loss: 0.020619\n",
            "iter 9000, loss: 0.019602\n"
          ],
          "name": "stdout"
        }
      ]
    },
    {
      "cell_type": "code",
      "metadata": {
        "colab": {
          "base_uri": "https://localhost:8080/"
        },
        "id": "23z_DlRGZ6nK",
        "outputId": "263e115c-8d83-4ffa-a60e-1e68d24bf80b"
      },
      "source": [
        "Z1 = np.dot(W1.T, X) + b1\n",
        "A1 = np.maximum(Z1, 0)\n",
        "Z2 = np.dot(W2.T, A1) + b2\n",
        "predicted_class = np.argmax(Z2, axis=0)\n",
        "\n",
        "\n",
        "print('training accuracy: %.2f %%' % (100*np.mean(predicted_class == y)))"
      ],
      "execution_count": null,
      "outputs": [
        {
          "output_type": "stream",
          "text": [
            "training accuracy: 99.33 %\n"
          ],
          "name": "stdout"
        }
      ]
    },
    {
      "cell_type": "markdown",
      "metadata": {
        "id": "fDA2Q1R0aBnK"
      },
      "source": [
        "Kết quả khi sử dụng 1 hidden layer với 100 units.\n",
        "![image](https://machinelearningcoban.com/assets/14_mlp/ex_res100.png)\n",
        "\n",
        "Kết quả với số lượng units trong hidden layer là khác nhau. \n",
        "![vidu2](https://machinelearningcoban.com/assets/14_mlp/ex_res5.png)"
      ]
    },
    {
      "cell_type": "markdown",
      "metadata": {
        "id": "wiQA4oMLX5LL"
      },
      "source": [
        "#####**Code 2**\n",
        "\n",
        "Phân loại số viết tay trong tập dữ liệu minist\n"
      ]
    },
    {
      "cell_type": "markdown",
      "metadata": {
        "id": "2k5xUYaPhoaL"
      },
      "source": [
        "**Load data**"
      ]
    },
    {
      "cell_type": "code",
      "metadata": {
        "colab": {
          "base_uri": "https://localhost:8080/"
        },
        "id": "jk4YcbIUiCtk",
        "outputId": "5d67fd36-05b8-4545-f4cb-8fec21fdcbb6"
      },
      "source": [
        "import numpy as np\n",
        "import pandas as pd\n",
        "from keras.datasets import mnist\n",
        "from keras.utils import to_categorical\n",
        "\n",
        "(x_train, y_train), (x_test, y_test) = mnist.load_data()\n",
        "print(x_train.shape,y_train.shape)\n",
        "print(x_test.shape,y_test.shape)\n",
        "\n",
        "x = x_train/255.\n",
        "x=x_train.reshape((x_train.shape[0], -1))\n",
        "#to one-hot coding\n",
        "y= to_categorical(y_train)\n",
        "\n",
        "x_test=x_test/255.\n",
        "x_test=x_test.reshape((x_test.shape[0], -1))\n",
        "y_test=to_categorical(y_test)\n",
        "\n",
        "print(x.shape,y.shape)"
      ],
      "execution_count": null,
      "outputs": [
        {
          "output_type": "stream",
          "text": [
            "Downloading data from https://storage.googleapis.com/tensorflow/tf-keras-datasets/mnist.npz\n",
            "11493376/11490434 [==============================] - 0s 0us/step\n",
            "(60000, 28, 28) (60000,)\n",
            "(10000, 28, 28) (10000,)\n",
            "(60000, 784) (60000, 10)\n"
          ],
          "name": "stdout"
        }
      ]
    },
    {
      "cell_type": "code",
      "metadata": {
        "id": "KCrHFwJSi-cx"
      },
      "source": [
        "# Hàm Relu \n",
        "def Relu(x):\n",
        "  return np.maximum(0,x)\n",
        "\n",
        "#Đạo hàm Relu\n",
        "def Relu_derivative(x):\n",
        "  X_ = np.ones_like(x)\n",
        "  X_[x<=0] = 0\n",
        "  return X_\n",
        "\n",
        "def softmax(Z):\n",
        "  Ev=np.exp(Z-np.max(Z,axis=0,keepdims=True))\n",
        "  return Ev / Ev.sum(axis=0, keepdims=True)\n",
        "\n",
        "def softmax_derivative(Z):\n",
        "  return softmax(Z)*(1-softmax(Z))\n",
        "\n",
        "# Lớp neural network\n",
        "class NeuralNetwork:\n",
        "  def __init__(self, layers, alpha=0.1):\n",
        "    self.layers = layers \n",
        "    \n",
        "    # Hệ số learning rate\n",
        "    self.alpha = alpha\n",
        "  \n",
        "    # Tham số W, b\n",
        "    self.W =[]\n",
        "    self.b =[]\n",
        "    \n",
        "    # Khởi tạo các tham số ở mỗi layer\n",
        "    for i in range(0, len(layers)-1):\n",
        "      w_ = np.random.randn(layers[i]['units'], layers[i+1]['units'])\n",
        "      b_ = np.zeros((layers[i+1]['units'], 1))\n",
        "      self.W.append(0.001*w_)\n",
        "      self.b.append(b_)\n",
        "\n",
        "          \n",
        "  \n",
        "# Tóm tắt mô hình neural network\n",
        "  def __repr__(self):\n",
        "    return \"Neural network [{}]\".format(\"-\".join(str(l) for l in self.layers))\n",
        "  \n",
        "  def feedforward(self, x):\n",
        "    A = [x]\n",
        "    out = A[-1]\n",
        "    for i in range(0, len(self.layers) - 1):\n",
        "      if (self.layers[i]['activation']=='Relu'):\n",
        "        out = Relu(np.dot( out,self.W[i]) + self.b[i].T)\n",
        "      else:\n",
        "        out = softmax(np.dot(out,self.W[i]) + self.b[i].T)\n",
        "      A.append(out)\n",
        "    return A\n",
        "\n",
        "# Train mô hình với dữ liệu\n",
        "  def fit_partial(self, x, y):\n",
        "\n",
        "    # quá trình feedforward\n",
        "    A = self.feedforward(x)\n",
        "\n",
        "    # quá trình backpropagation\n",
        "    # dA = [-(y/A[-1] - (1-y)/(1-A[-1]))]\n",
        "    dA = [(A[-1]-y)*1/x.shape[0]]\n",
        "    dW = []\n",
        "    db = []\n",
        "    for i in reversed(range(0, len(self.layers)-1)):\n",
        "      if(self.layers[i]['activation']=='Relu'):\n",
        "\n",
        "        dw_ = np.dot((A[i]).T, dA[-1] * Relu_derivative(A[i+1]))\n",
        "        db_ = (np.sum(dA[-1] * Relu_derivative(A[i+1]), 0)).reshape(-1,1)\n",
        "        dA_ = np.dot(dA[-1] * Relu_derivative(A[i+1]), self.W[i].T)\n",
        "        \n",
        "      else:\n",
        "        dw_ = np.dot((A[i]).T, dA[-1] * softmax_derivative(A[i+1]))\n",
        "        db_ = (np.sum(dA[-1] * softmax_derivative(A[i+1]), 0)).reshape(-1,1)\n",
        "        dA_ = np.dot(dA[-1] * softmax_derivative(A[i+1]), self.W[i].T)\n",
        "\n",
        "\n",
        "      dW.append(dw_)\n",
        "      db.append(db_)\n",
        "      dA.append(dA_)\n",
        "    \n",
        "    # Đảo ngược dW, db\n",
        "    dW = dW[::-1]\n",
        "    db = db[::-1]\n",
        "      \n",
        "    # Gradient descent\n",
        "    for i in range(0, len(self.layers)-1):\n",
        "      self.W[i] = self.W[i] - self.alpha * dW[i]\n",
        "      self.b[i] = self.b[i] - self.alpha * db[i]\n",
        "    \n",
        "  def fit(self, X, y, epochs=20, verbose=10):\n",
        "    for epoch in range(0, epochs):\n",
        "      self.fit_partial(X, y)\n",
        "      # if epoch % verbose == 0:\n",
        "        # loss = self.calculate_loss(X, y)\n",
        "      #   print(\"Epoch {}, loss {}\".format(epoch, loss))\n",
        "      loss = self.calculate_loss(X, y)\n",
        "      print(\"Epoch {}, loss {}\".format(epoch, loss))\n",
        "  \n",
        "# Dự đoán\n",
        "  def predict(self, X):\n",
        "    return self.feedforward(x)[-1]\n",
        "\n",
        "# Tính loss function\n",
        "  def calculate_loss(self, X, y):\n",
        "    y_predict = self.predict(X)\n",
        "    return self.Loss_func(y,y_predict)\n",
        "\n",
        "  def Loss_func(self,Y,Yhat):\n",
        "    return -np.sum(Y*np.log(Yhat))*1/Y.shape[0]"
      ],
      "execution_count": null,
      "outputs": []
    },
    {
      "cell_type": "code",
      "metadata": {
        "id": "fBnUXbFHjDVM",
        "colab": {
          "base_uri": "https://localhost:8080/",
          "height": 556
        },
        "outputId": "2f03c05d-190d-44e3-daaf-6eeb2090e39b"
      },
      "source": [
        "Layers = [\n",
        "  {'units':784,'activation' : 'Relu'},#input \n",
        "  {'units':512,'activation' : 'Relu'},\n",
        "  {'units':512, 'activation' : 'Relu' },# hidden \n",
        "  {'units':512,'activation' : 'Relu'}, # hidden \n",
        "  {'units':256,'activation' : 'Softmax'},\n",
        "  {'units':10} # output \n",
        "]\n",
        "\n",
        "DNN = NeuralNetwork(Layers)\n",
        "DNN.fit(x,y,80,10)\n",
        "# DNN.feedforward(x,y)\n",
        "# DNN.fit_partial(x,y)\n",
        "print(DNN.calculate_loss(x,y))\n",
        "# DNN.predict(x)[0];"
      ],
      "execution_count": null,
      "outputs": [
        {
          "output_type": "stream",
          "text": [
            "Epoch 0, loss 11.002099839861822\n",
            "Epoch 1, loss 11.00209983986139\n",
            "Epoch 2, loss 11.002099839860945\n",
            "Epoch 3, loss 11.002099839860508\n",
            "Epoch 4, loss 11.002099839860072\n",
            "Epoch 5, loss 11.002099839859627\n",
            "Epoch 6, loss 11.002099839859198\n",
            "Epoch 7, loss 11.002099839858756\n",
            "Epoch 8, loss 11.002099839858309\n",
            "Epoch 9, loss 11.002099839857882\n"
          ],
          "name": "stdout"
        },
        {
          "output_type": "error",
          "ename": "KeyboardInterrupt",
          "evalue": "ignored",
          "traceback": [
            "\u001b[0;31m---------------------------------------------------------------------------\u001b[0m",
            "\u001b[0;31mKeyboardInterrupt\u001b[0m                         Traceback (most recent call last)",
            "\u001b[0;32m<ipython-input-9-66be9f454fb1>\u001b[0m in \u001b[0;36m<module>\u001b[0;34m()\u001b[0m\n\u001b[1;32m      9\u001b[0m \u001b[0;34m\u001b[0m\u001b[0m\n\u001b[1;32m     10\u001b[0m \u001b[0mDNN\u001b[0m \u001b[0;34m=\u001b[0m \u001b[0mNeuralNetwork\u001b[0m\u001b[0;34m(\u001b[0m\u001b[0mLayers\u001b[0m\u001b[0;34m)\u001b[0m\u001b[0;34m\u001b[0m\u001b[0;34m\u001b[0m\u001b[0m\n\u001b[0;32m---> 11\u001b[0;31m \u001b[0mDNN\u001b[0m\u001b[0;34m.\u001b[0m\u001b[0mfit\u001b[0m\u001b[0;34m(\u001b[0m\u001b[0mx\u001b[0m\u001b[0;34m,\u001b[0m\u001b[0my\u001b[0m\u001b[0;34m,\u001b[0m\u001b[0;36m80\u001b[0m\u001b[0;34m,\u001b[0m\u001b[0;36m10\u001b[0m\u001b[0;34m)\u001b[0m\u001b[0;34m\u001b[0m\u001b[0;34m\u001b[0m\u001b[0m\n\u001b[0m\u001b[1;32m     12\u001b[0m \u001b[0;31m# DNN.feedforward(x,y)\u001b[0m\u001b[0;34m\u001b[0m\u001b[0;34m\u001b[0m\u001b[0;34m\u001b[0m\u001b[0m\n\u001b[1;32m     13\u001b[0m \u001b[0;31m# DNN.fit_partial(x,y)\u001b[0m\u001b[0;34m\u001b[0m\u001b[0;34m\u001b[0m\u001b[0;34m\u001b[0m\u001b[0m\n",
            "\u001b[0;32m<ipython-input-8-ac15fd43eeac>\u001b[0m in \u001b[0;36mfit\u001b[0;34m(self, X, y, epochs, verbose)\u001b[0m\n\u001b[1;32m     91\u001b[0m   \u001b[0;32mdef\u001b[0m \u001b[0mfit\u001b[0m\u001b[0;34m(\u001b[0m\u001b[0mself\u001b[0m\u001b[0;34m,\u001b[0m \u001b[0mX\u001b[0m\u001b[0;34m,\u001b[0m \u001b[0my\u001b[0m\u001b[0;34m,\u001b[0m \u001b[0mepochs\u001b[0m\u001b[0;34m=\u001b[0m\u001b[0;36m20\u001b[0m\u001b[0;34m,\u001b[0m \u001b[0mverbose\u001b[0m\u001b[0;34m=\u001b[0m\u001b[0;36m10\u001b[0m\u001b[0;34m)\u001b[0m\u001b[0;34m:\u001b[0m\u001b[0;34m\u001b[0m\u001b[0;34m\u001b[0m\u001b[0m\n\u001b[1;32m     92\u001b[0m     \u001b[0;32mfor\u001b[0m \u001b[0mepoch\u001b[0m \u001b[0;32min\u001b[0m \u001b[0mrange\u001b[0m\u001b[0;34m(\u001b[0m\u001b[0;36m0\u001b[0m\u001b[0;34m,\u001b[0m \u001b[0mepochs\u001b[0m\u001b[0;34m)\u001b[0m\u001b[0;34m:\u001b[0m\u001b[0;34m\u001b[0m\u001b[0;34m\u001b[0m\u001b[0m\n\u001b[0;32m---> 93\u001b[0;31m       \u001b[0mself\u001b[0m\u001b[0;34m.\u001b[0m\u001b[0mfit_partial\u001b[0m\u001b[0;34m(\u001b[0m\u001b[0mX\u001b[0m\u001b[0;34m,\u001b[0m \u001b[0my\u001b[0m\u001b[0;34m)\u001b[0m\u001b[0;34m\u001b[0m\u001b[0;34m\u001b[0m\u001b[0m\n\u001b[0m\u001b[1;32m     94\u001b[0m       \u001b[0;31m# if epoch % verbose == 0:\u001b[0m\u001b[0;34m\u001b[0m\u001b[0;34m\u001b[0m\u001b[0;34m\u001b[0m\u001b[0m\n\u001b[1;32m     95\u001b[0m         \u001b[0;31m# loss = self.calculate_loss(X, y)\u001b[0m\u001b[0;34m\u001b[0m\u001b[0;34m\u001b[0m\u001b[0;34m\u001b[0m\u001b[0m\n",
            "\u001b[0;32m<ipython-input-8-ac15fd43eeac>\u001b[0m in \u001b[0;36mfit_partial\u001b[0;34m(self, x, y)\u001b[0m\n\u001b[1;32m     66\u001b[0m       \u001b[0;32mif\u001b[0m\u001b[0;34m(\u001b[0m\u001b[0mself\u001b[0m\u001b[0;34m.\u001b[0m\u001b[0mlayers\u001b[0m\u001b[0;34m[\u001b[0m\u001b[0mi\u001b[0m\u001b[0;34m]\u001b[0m\u001b[0;34m[\u001b[0m\u001b[0;34m'activation'\u001b[0m\u001b[0;34m]\u001b[0m\u001b[0;34m==\u001b[0m\u001b[0;34m'Relu'\u001b[0m\u001b[0;34m)\u001b[0m\u001b[0;34m:\u001b[0m\u001b[0;34m\u001b[0m\u001b[0;34m\u001b[0m\u001b[0m\n\u001b[1;32m     67\u001b[0m \u001b[0;34m\u001b[0m\u001b[0m\n\u001b[0;32m---> 68\u001b[0;31m         \u001b[0mdw_\u001b[0m \u001b[0;34m=\u001b[0m \u001b[0mnp\u001b[0m\u001b[0;34m.\u001b[0m\u001b[0mdot\u001b[0m\u001b[0;34m(\u001b[0m\u001b[0;34m(\u001b[0m\u001b[0mA\u001b[0m\u001b[0;34m[\u001b[0m\u001b[0mi\u001b[0m\u001b[0;34m]\u001b[0m\u001b[0;34m)\u001b[0m\u001b[0;34m.\u001b[0m\u001b[0mT\u001b[0m\u001b[0;34m,\u001b[0m \u001b[0mdA\u001b[0m\u001b[0;34m[\u001b[0m\u001b[0;34m-\u001b[0m\u001b[0;36m1\u001b[0m\u001b[0;34m]\u001b[0m \u001b[0;34m*\u001b[0m \u001b[0mRelu_derivative\u001b[0m\u001b[0;34m(\u001b[0m\u001b[0mA\u001b[0m\u001b[0;34m[\u001b[0m\u001b[0mi\u001b[0m\u001b[0;34m+\u001b[0m\u001b[0;36m1\u001b[0m\u001b[0;34m]\u001b[0m\u001b[0;34m)\u001b[0m\u001b[0;34m)\u001b[0m\u001b[0;34m\u001b[0m\u001b[0;34m\u001b[0m\u001b[0m\n\u001b[0m\u001b[1;32m     69\u001b[0m         \u001b[0mdb_\u001b[0m \u001b[0;34m=\u001b[0m \u001b[0;34m(\u001b[0m\u001b[0mnp\u001b[0m\u001b[0;34m.\u001b[0m\u001b[0msum\u001b[0m\u001b[0;34m(\u001b[0m\u001b[0mdA\u001b[0m\u001b[0;34m[\u001b[0m\u001b[0;34m-\u001b[0m\u001b[0;36m1\u001b[0m\u001b[0;34m]\u001b[0m \u001b[0;34m*\u001b[0m \u001b[0mRelu_derivative\u001b[0m\u001b[0;34m(\u001b[0m\u001b[0mA\u001b[0m\u001b[0;34m[\u001b[0m\u001b[0mi\u001b[0m\u001b[0;34m+\u001b[0m\u001b[0;36m1\u001b[0m\u001b[0;34m]\u001b[0m\u001b[0;34m)\u001b[0m\u001b[0;34m,\u001b[0m \u001b[0;36m0\u001b[0m\u001b[0;34m)\u001b[0m\u001b[0;34m)\u001b[0m\u001b[0;34m.\u001b[0m\u001b[0mreshape\u001b[0m\u001b[0;34m(\u001b[0m\u001b[0;34m-\u001b[0m\u001b[0;36m1\u001b[0m\u001b[0;34m,\u001b[0m\u001b[0;36m1\u001b[0m\u001b[0;34m)\u001b[0m\u001b[0;34m\u001b[0m\u001b[0;34m\u001b[0m\u001b[0m\n\u001b[1;32m     70\u001b[0m         \u001b[0mdA_\u001b[0m \u001b[0;34m=\u001b[0m \u001b[0mnp\u001b[0m\u001b[0;34m.\u001b[0m\u001b[0mdot\u001b[0m\u001b[0;34m(\u001b[0m\u001b[0mdA\u001b[0m\u001b[0;34m[\u001b[0m\u001b[0;34m-\u001b[0m\u001b[0;36m1\u001b[0m\u001b[0;34m]\u001b[0m \u001b[0;34m*\u001b[0m \u001b[0mRelu_derivative\u001b[0m\u001b[0;34m(\u001b[0m\u001b[0mA\u001b[0m\u001b[0;34m[\u001b[0m\u001b[0mi\u001b[0m\u001b[0;34m+\u001b[0m\u001b[0;36m1\u001b[0m\u001b[0;34m]\u001b[0m\u001b[0;34m)\u001b[0m\u001b[0;34m,\u001b[0m \u001b[0mself\u001b[0m\u001b[0;34m.\u001b[0m\u001b[0mW\u001b[0m\u001b[0;34m[\u001b[0m\u001b[0mi\u001b[0m\u001b[0;34m]\u001b[0m\u001b[0;34m.\u001b[0m\u001b[0mT\u001b[0m\u001b[0;34m)\u001b[0m\u001b[0;34m\u001b[0m\u001b[0;34m\u001b[0m\u001b[0m\n",
            "\u001b[0;32m<ipython-input-8-ac15fd43eeac>\u001b[0m in \u001b[0;36mRelu_derivative\u001b[0;34m(x)\u001b[0m\n\u001b[1;32m      6\u001b[0m \u001b[0;32mdef\u001b[0m \u001b[0mRelu_derivative\u001b[0m\u001b[0;34m(\u001b[0m\u001b[0mx\u001b[0m\u001b[0;34m)\u001b[0m\u001b[0;34m:\u001b[0m\u001b[0;34m\u001b[0m\u001b[0;34m\u001b[0m\u001b[0m\n\u001b[1;32m      7\u001b[0m   \u001b[0mX_\u001b[0m \u001b[0;34m=\u001b[0m \u001b[0mnp\u001b[0m\u001b[0;34m.\u001b[0m\u001b[0mones_like\u001b[0m\u001b[0;34m(\u001b[0m\u001b[0mx\u001b[0m\u001b[0;34m)\u001b[0m\u001b[0;34m\u001b[0m\u001b[0;34m\u001b[0m\u001b[0m\n\u001b[0;32m----> 8\u001b[0;31m   \u001b[0mX_\u001b[0m\u001b[0;34m[\u001b[0m\u001b[0mx\u001b[0m\u001b[0;34m<=\u001b[0m\u001b[0;36m0\u001b[0m\u001b[0;34m]\u001b[0m \u001b[0;34m=\u001b[0m \u001b[0;36m0\u001b[0m\u001b[0;34m\u001b[0m\u001b[0;34m\u001b[0m\u001b[0m\n\u001b[0m\u001b[1;32m      9\u001b[0m   \u001b[0;32mreturn\u001b[0m \u001b[0mX_\u001b[0m\u001b[0;34m\u001b[0m\u001b[0;34m\u001b[0m\u001b[0m\n\u001b[1;32m     10\u001b[0m \u001b[0;34m\u001b[0m\u001b[0m\n",
            "\u001b[0;31mKeyboardInterrupt\u001b[0m: "
          ]
        }
      ]
    },
    {
      "cell_type": "markdown",
      "metadata": {
        "id": "J_jOm1kuKtPF"
      },
      "source": [
        "#4. Biến thể của Deep Learning Networks"
      ]
    },
    {
      "cell_type": "markdown",
      "metadata": {
        "id": "gz9sQ6pKKxtP"
      },
      "source": [
        "![typeofDNN](https://www.guru99.com/images/tensorflow/083018_0542_WhatisDeepl3.png)"
      ]
    },
    {
      "cell_type": "markdown",
      "metadata": {
        "id": "mGdywnfbRz3D"
      },
      "source": [
        "##Perception"
      ]
    },
    {
      "cell_type": "markdown",
      "metadata": {
        "id": "NamBSbFnMWGe"
      },
      "source": [
        "##Feed-forward Neural Networks"
      ]
    },
    {
      "cell_type": "markdown",
      "metadata": {
        "id": "Qtkktox2NK_L"
      },
      "source": [
        "![Feed-forward](https://d1m75rqqgidzqn.cloudfront.net/2019/11/feed-foward-nn-infograph1-300x226.jpg)\n",
        "\n",
        "**Applications:**\n",
        "- Phân loại đơn giản (trong đó các thuật toán phân loại dựa trên Máy học truyền thống có những hạn chế)\n",
        "- Nhận dạng khuôn mặt (Xử lý hình ảnh chuyển tiếp thẳng đơn giản)\n",
        "- Computer vision (Trường hợp các lớp mục tiêu khó phân loại)\n",
        "- Speech Recognition\n",
        "\n",
        "Loại mạng neuron nhân tạo đơn giản nhất. Với kiểu kiến ​​trúc này, thông tin chỉ lưu chuyển theo một hướng, về phía trước. Nó có nghĩa là, các luồng thông tin bắt đầu từ lớp đầu vào, đi đến các lớp \"ẩn\" và kết thúc ở lớp đầu ra. The network không có vòng lặp. Thông tin dừng lại ở các lớp đầu ra.\n",
        "\n",
        "**Advantages:**\n",
        "- Less complex, easy to design and maintain\n",
        "- Fast and speedy\n",
        "- Nhạy cảm với nhiễu\n",
        "\n",
        "**Disadvantages:**\n",
        "- Không thể được sử dụng cho deep learning (do không có lớp dày đặc và back propagation)\n",
        "\n",
        "\n",
        "\n",
        "\n",
        "\n"
      ]
    },
    {
      "cell_type": "markdown",
      "metadata": {
        "id": "10NC6z2_SD-D"
      },
      "source": [
        "##Multilayer Perceptron"
      ]
    },
    {
      "cell_type": "markdown",
      "metadata": {
        "id": "GstMZL58MV3V"
      },
      "source": [
        "##Recurrent neural networks (RNNs) "
      ]
    },
    {
      "cell_type": "markdown",
      "metadata": {
        "id": "NtheyulrM3R2"
      },
      "source": [
        "##Convolutional neural networks (CNN)"
      ]
    },
    {
      "cell_type": "markdown",
      "metadata": {
        "id": "8WWK3bdtSzkH"
      },
      "source": [
        "CNN là mạng neuron nhiều lớp với kiến ​​trúc đặc biệt được thiết kế để trích xuất các đặc trưng ngày càng phức tạp của dữ liệu ở mỗi lớp để xác định đầu ra. CNN rất phù hợp cho các bài toán nhận diện.\n",
        "\n",
        "![Convolutional Neural Network](https://www.guru99.com/images/tensorflow/083018_0542_WhatisDeepl5.png)\n",
        "\n",
        "CNN chủ yếu được sử dụng khi cần trích xuất thông tin từ một tập dữ liệu phi cấu trúc (ví dụ: hình ảnh).\n",
        "\n",
        "*Ví dụ:* nếu nhiệm vụ là dự đoán caption của hình ảnh:\n",
        "- Giả sử CNN nhận được một hình ảnh của một con mèo, ảnh này, trong máy tính là một tập các pixel. Thông thường, ảnh sẽ được biểu diễn thành một lớp greyscale(độ xám) hoặc 3 lớp để lưu màu của ảnh.\n",
        "- Trong quá trình feature learning (tức là các lớp ẩn), the network sẽ xác định các đặc điểm đặc biệt, chẳng hạn như đuôi của mèo, tai, v.v.\n",
        "- Khi the network đã học kỹ lưỡng cách nhận dạng một bức ảnh, nó có thể cung cấp một xác suất cho mỗi bức ảnh mà nó biết. Label có xác suất cao nhất sẽ là kết quả dự đoán của the network.\n",
        "\n",
        "**Applications:**\n",
        "- Image processing\n",
        "- Computer Vision\n",
        "- Speech Recognition\n",
        "- Machine translation\n",
        "\n",
        "**Advantages:**\n",
        "- Dùng cho deep learning với ít parameter.\n",
        "- Ít parameter để học hơn nêu so với fully connected layer.\n",
        "\n",
        "**Disadvantages:**\n",
        "- Tương đối(Comparatively) complex to design and maintain\n",
        "- Comparatively slow (depends on the number of hidden layers)\n"
      ]
    },
    {
      "cell_type": "markdown",
      "metadata": {
        "id": "JcbvabMZuwX1"
      },
      "source": [
        "###**Convolutional layer**\n",
        "\n",
        "\n",
        "\n",
        "\n"
      ]
    },
    {
      "cell_type": "markdown",
      "metadata": {
        "id": "da_kkUDZvN9F"
      },
      "source": [
        "**Vấn đề của fully connected neural network với xử lý ảnh**\n",
        "\n",
        "Ảnh màu 64 * 64 được biểu diễn dưới dạng 1 tensor 64 * 64 * 3. Nên để biểu thị hết nội dung của bức ảnh thì cần truyền vào input layer tất cả các pixel (64 * 64 *3 = 12288). Nghĩa là input layer giờ có 12288 nodes.\n",
        "\n",
        "![Input an hidden layer1](https://i2.wp.com/nttuan8.com/wp-content/uploads/2019/03/input_hd1.png?w=552&ssl=1)\n",
        "\n",
        "Giả sử số lượng node trong hidden layer 1 là 1000. Số lượng weight W giữa input layer và hidden layer 1 là 12288 * 1000 = 12288000, số lượng bias là 1000 => tổng số parameter là: 12289000. Đấy mới chỉ là số parameter giữa input layer và hidden layer 1, trong model còn nhiều layer nữa, và nếu kích thước ảnh tăng, ví dụ 512 * 512 thì số lượng parameter tăng cực kì nhanh => Cần giải pháp tốt hơn !!!\n",
        "\n",
        "Nhận xét:\n",
        "- Trong ảnh các pixel ở cạnh nhau thường có liên kết với nhau hơn là những pixel ở xa.\n",
        "-Trong phép tính convolution trong ảnh, chỉ 1 kernel được dùng trên toàn bộ bức ảnh. Hay nói cách khác là các pixel ảnh **chia sẻ** hệ số với nhau.\n",
        "\n",
        "\n",
        "**=> Áp dụng phép tính convolution vào layer trong neural network ta có thể giải quyết được vấn đề lượng lớn parameter mà vẫn lấy ra được các đặc trưng của ảnh.**\n"
      ]
    },
    {
      "cell_type": "markdown",
      "metadata": {
        "id": "BWxsbT8HvZAR"
      },
      "source": [
        "**Convolutional layer đầu tiên**\n",
        "\n",
        "Phép tính convolution thực hiện trên ảnh xám với biểu diễn ảnh dạng ma trận\n",
        "\n",
        "![convolution in grayimage](https://i1.wp.com/nttuan8.com/wp-content/uploads/2019/03/giphy.gif?resize=474%2C345&ssl=1)\n",
        "\n",
        "Tuy nhiên ảnh màu có tới 3 channels red, green, blue nên khi biểu diễn ảnh dưới dạng tensor 3 chiều. Nên ta cũng sẽ định nghĩa kernel là 1 tensor 3 chiều kích thước k * k * 3.\n",
        "\n",
        "![Phep tinh convolution tren anh mau voi k=3](https://i0.wp.com/nttuan8.com/wp-content/uploads/2019/03/kernel.png?w=326&ssl=1)\n",
        "\n",
        "![Bieu dien](https://i0.wp.com/nttuan8.com/wp-content/uploads/2019/03/conv.png?resize=768%2C515&ssl=1)\n",
        "\n",
        "\n",
        "![convolution](https://i2.wp.com/nttuan8.com/wp-content/uploads/2019/03/conv.gif?resize=1000%2C562&ssl=1)\n",
        "\n",
        "\n",
        "Nhận xét:\n",
        "- Output Y của phép tính convolution trên ảnh màu là 1 matrix.\n",
        "- Có 1 **hệ số bias** được cộng vào sau bước tính tổng các phần tử của phép tính element-wise\n",
        "\n",
        "**Padding and Stride**\n",
        "\n",
        "Với mỗi kernel khác nhau ta sẽ học được những đặc trưng khác nhau của ảnh, nên trong mỗi convolutional layer ta sẽ dùng nhiều kernel để học được nhiều thuộc tính của ảnh. Vì mỗi kernel cho ra output là 1 matrix nên k kernel sẽ cho ra k output matrix. Ta kết hợp k output matrix này lại thành 1 tensor 3 chiều có chiều sâu k.\n",
        "\n",
        "\n",
        "![Convolutional layer dau tien](https://i0.wp.com/nttuan8.com/wp-content/uploads/2019/03/conv1.png?w=855&ssl=1)\n",
        "\n",
        "Convolutional layer đầu tiên\n",
        "\n",
        "Output của convolutional layer đầu tiên sẽ thành input của convolutional layer tiếp theo.\n"
      ]
    },
    {
      "cell_type": "markdown",
      "metadata": {
        "id": "CVomeikVvjv2"
      },
      "source": [
        "**Convolutional layer tổng quát**\n",
        "\n",
        "Giả sử input của 1 convolutional layer tổng quát là tensor kích thước H * W * D.\n",
        "\n",
        "Kernel có kích thước F * F * D (kernel luôn có depth bằng depth của input và F là số lẻ), stride: S, padding: P.\n",
        "\n",
        "Convolutional layer áp dụng K kernel.\n",
        "=> Output của layer là tensor 3 chiều có kích thước: $\\displaystyle (\\frac{H-F+2P}{S} + 1) * (\\frac{W-F+2P}{S} + 1) * K$\n",
        "\n",
        "![Convolution layer](https://i2.wp.com/nttuan8.com/wp-content/uploads/2019/03/conv2-1.png?w=991&ssl=1)\n",
        "\n",
        "Lưu ý:\n",
        "- Output của convolutional layer sẽ qua hàm activation function trước khi trở thành input của convolutional layer tiếp theo.\n",
        "-Tổng số parameter của layer: Mỗi kernel có kích thước F * F * D và có 1 hệ số bias, nên tổng parameter của 1 kernel là F * F * D + 1. Mà convolutional layer áp dụng K kernel => Tổng số parameter trong layer này là K * (F * F * D + 1). "
      ]
    },
    {
      "cell_type": "markdown",
      "metadata": {
        "id": "cxxu2stlvpcV"
      },
      "source": [
        "###**Pooling layer**"
      ]
    },
    {
      "cell_type": "markdown",
      "metadata": {
        "id": "craK-7AEBVeN"
      },
      "source": [
        "\n",
        "Pooling layer thường được dùng giữa các convolutional layer, để giảm kích thước dữ liệu nhưng vẫn giữ được các thuộc tính quan trọng. Kích thước dữ liệu giảm giúp giảm việc tính toán trong model.\n",
        "\n",
        "Gọi pooling size kích thước K * K. Input của pooling layer có kích thước H * W *  D, ta tách ra làm D ma trận kích thước H * W. Với mỗi ma trận, trên vùng kích thước K * K trên ma trận ta tìm maximum hoặc average của dữ liệu rồi viết vào ma trận kết quả. Quy tắc về stride và padding áp dụng như phép tính convolution trên ảnh.\n",
        "\n",
        "![Pooling layer](https://i1.wp.com/nttuan8.com/wp-content/uploads/2019/03/pooling.gif?resize=396%2C248&ssl=1)\n",
        "\n",
        "max pooling layer với size=(3,3), stride=1, padding=0\n",
        "\n",
        "Nhưng **hầu hết** khi dùng pooling layer thì sẽ dùng size=(2,2), stride=2, padding=0. Khi đó output width và height của dữ liệu giảm đi một nửa, depth thì được giữ nguyên .\n",
        "\n",
        "![Sau pooling layer](https://i0.wp.com/nttuan8.com/wp-content/uploads/2019/03/pooling.jpeg?w=514&ssl=1)\n",
        "\n",
        "Có 2 loại pooling layer phổ biến là: max pooling và average pooling.\n",
        "\n",
        "![Vi du ve poolling layer](https://i1.wp.com/nttuan8.com/wp-content/uploads/2019/03/pooling_2.jpg?w=596&ssl=1)\n",
        "\n",
        "Ví dụ Max pooling layer:\n",
        "\n",
        "![Vi du max poolling layer](https://www.researchgate.net/profile/Wouter-Verschoof-Van-Der-Vaart/publication/331874666/figure/fig2/AS:738215627612160@1553015729189/Schematic-representation-of-a-convolution-and-pooling-layer-in-a-CNN.png)\n",
        "\n",
        "**Trong một số model người ta dùng convolutional layer với stride > 1 để giảm kích thước dữ liệu thay cho pooling layer.**"
      ]
    },
    {
      "cell_type": "markdown",
      "metadata": {
        "id": "jGIyG8PKvxbe"
      },
      "source": [
        "###**Fully connected layer**"
      ]
    },
    {
      "cell_type": "markdown",
      "metadata": {
        "id": "Sb-S62lIBZT2"
      },
      "source": [
        "\n",
        "Sau khi ảnh được truyền qua nhiều convolutional layer và pooling layer thì model đã học được tương đối các đặc điểm của ảnh (ví dụ mắt, mũi, khung mặt,…) thì tensor của output của layer cuối cùng, kích thước H * W * D, sẽ được chuyển về 1 vector kích thước (H * W * D)\n",
        "\n",
        "![fully connected layer](https://i1.wp.com/nttuan8.com/wp-content/uploads/2019/03/flattern.png?resize=768%2C367&ssl=1)\n",
        "\n",
        "Sau đó ta dùng các fully connected layer để kết hợp các đặc điểm của ảnh để ra được output của model.\n",
        "\n"
      ]
    },
    {
      "cell_type": "markdown",
      "metadata": {
        "id": "brd27XuhwDKy"
      },
      "source": [
        "###**Visualise convolutional neural network**"
      ]
    },
    {
      "cell_type": "markdown",
      "metadata": {
        "id": "2L17wcSgBcIb"
      },
      "source": [
        "Mô hình convolutional neural network:\n",
        "\n",
        "Input image -> Convolutional layer (Conv) + Pooling layer (Pool) -> Fully connected layer (FC) -> Output.\n",
        "\n",
        "![mo hinh](https://i0.wp.com/nttuan8.com/wp-content/uploads/2019/03/cnn.png?w=1024&ssl=1)"
      ]
    },
    {
      "cell_type": "markdown",
      "metadata": {
        "id": "yAfzxzatSNkZ"
      },
      "source": [
        "##Radial Basis Function Neural Networks"
      ]
    },
    {
      "cell_type": "markdown",
      "metadata": {
        "id": "qI-rxWVJSSWF"
      },
      "source": [
        "##Recurrent Neural Networks"
      ]
    },
    {
      "cell_type": "markdown",
      "metadata": {
        "id": "eqCZJKyQSXQS"
      },
      "source": [
        "##Sequence to sequence models"
      ]
    },
    {
      "cell_type": "markdown",
      "metadata": {
        "id": "lIgqGYRMSYnp"
      },
      "source": [
        "##Modular Neural Network "
      ]
    },
    {
      "cell_type": "markdown",
      "metadata": {
        "id": "WYFR7koue6yX"
      },
      "source": [
        "#5. Ứng dụng\n",
        "1. Xe tự động\n",
        "1. Trợ lý ảo\n",
        "1. Mô phỏng và nhận diện hình ảnh\n",
        "1. Dịch ngôn ngữ"
      ]
    },
    {
      "cell_type": "markdown",
      "metadata": {
        "id": "WXfxK84Me_ul"
      },
      "source": [
        "#6. Hạn chế"
      ]
    },
    {
      "cell_type": "markdown",
      "metadata": {
        "id": "9ziTsKd50Fzc"
      },
      "source": [
        "**Data labeling**\n",
        "\n",
        "Hầu hết các mô hình AI hiện tại đều được đào tạo thông qua \"học có giám sát\". Nó có nghĩa là con người phải gắn nhãn và phân loại dữ liệu cơ bản, đây có thể là một công việc khá lớn và dễ xảy ra lỗi. Ví dụ: các công ty phát triển công nghệ xe hơi tự lái đang thuê hàng trăm người chú thích thủ công hàng giờ các dữ liệu video từ các phương tiện lấy mẫu để giúp đào tạo các hệ thống này."
      ]
    },
    {
      "cell_type": "markdown",
      "metadata": {
        "id": "-cB1F6Gc0Nqm"
      },
      "source": [
        "**Obtain huge training datasets**\n",
        "\n",
        "Đòi hỏi các tập dữ liệu đào tạo không chỉ được gắn nhãn mà còn phải đủ rộng và phổ quát.\n",
        "\n",
        "Phương pháp deep learning đòi hỏi hàng nghìn lượt quan sát để các mô hình trở nên tương đối tốt trong các nhiệm vụ phân loại và, trong một số trường hợp, hàng triệu để chúng thực hiện ở cấp độ con người. Không ngạc nhiên khi học sâu rất nổi tiếng trong các công ty công nghệ khổng lồ; họ đang sử dụng dữ liệu lớn để tích lũy hàng petabyte dữ liệu. Nó cho phép họ tạo ra một mô hình học sâu ấn tượng và có độ chính xác cao.\n",
        "\n"
      ]
    },
    {
      "cell_type": "markdown",
      "metadata": {
        "id": "3qDocXWy0SKT"
      },
      "source": [
        "**Explain a problem**\n",
        "\n",
        "Các mô hình lớn và phức tạp có thể khó giải thích theo nghĩa của con người. Đó là một lý do khiến việc chấp nhận một số công cụ AI chậm, Khả năng diễn đạt thực sự cần thiết.\n",
        "\n",
        "Hơn nữa, khi ứng dụng AI ngày càng mở rộng, các yêu cầu quy định cũng có thể thúc đẩy nhu cầu về \"các mô hình AI dễ giải thích\" hơn là một \"mô hình AI không thể giải thích được\".\n",
        "\n"
      ]
    },
    {
      "cell_type": "markdown",
      "metadata": {
        "id": "zLGnWTBIfFL4"
      },
      "source": [
        "#7. 1 số định nghĩa"
      ]
    },
    {
      "cell_type": "markdown",
      "metadata": {
        "id": "cTTJ5bGeYPwa"
      },
      "source": [
        "##Full Connected Layer"
      ]
    },
    {
      "cell_type": "markdown",
      "metadata": {
        "id": "AkySrv6ruo9o"
      },
      "source": [
        "\n",
        "![Mo hinh neural network](https://i2.wp.com/nttuan8.com/wp-content/uploads/2019/03/nn-2.png?resize=768%2C631&ssl=1)\n",
        "\n",
        "Mô hình hình Neural Network\n",
        "\n",
        "\n",
        "Mỗi hidden layer được gọi là **fully connected layer**, tên gọi theo đúng ý nghĩa, mỗi node trong hidden layer được kết nối với tất cả các node trong layer trước. Cả mô hình được gọi là **fully connected neural network (FCN).**\n"
      ]
    },
    {
      "cell_type": "markdown",
      "metadata": {
        "id": "x9J_8k6LfK93"
      },
      "source": [
        "##Tensor\n"
      ]
    },
    {
      "cell_type": "markdown",
      "metadata": {
        "id": "ZAzWle4hn15F"
      },
      "source": [
        "\n",
        "Khi dữ liệu biểu diễn dạng 1 chiều, người ta gọi là vector, mặc định khi viết vector sẽ viết dưới dạng cột.\n",
        "\n",
        "Khi dữ liệu dạng 2 chiều, người ta gọi là ma trận, kích thước là số hàng * số cột. \n",
        "\n",
        "![Vector v kich thuoc n, ma tran W kich thuoc m*n](https://i1.wp.com/nttuan8.com/wp-content/uploads/2019/03/CodeCogsEqn-8-1.gif?resize=320%2C89&ssl=1)\n",
        "\n",
        "Vector v kích thước n, ma trận W kích thước m*n\n",
        "\n",
        "**Khi dữ liệu nhiều hơn 2 nhiều thì sẽ được gọi là _Tensor_, ví dụ như dữ liệu có 3 chiều.**\n",
        "\n",
        "_Ví dụ biểu diễn ảnh màu kích thước 28*28, biểu diễn dưới dạng tensor 28*28*3_\n",
        "\n",
        "![Vi du bieu dien tensor](https://i2.wp.com/nttuan8.com/wp-content/uploads/2019/03/tensor.jpg?w=638&ssl=1)\n",
        "\n",
        "\n"
      ]
    },
    {
      "cell_type": "markdown",
      "metadata": {
        "id": "Ja-JFmQomDVd"
      },
      "source": [
        "##Matrix"
      ]
    },
    {
      "cell_type": "markdown",
      "metadata": {
        "id": "yVDJwIaWmNpy"
      },
      "source": [
        "###Multiplication matrix"
      ]
    },
    {
      "cell_type": "markdown",
      "metadata": {
        "id": "ElgZYuNcnAUN"
      },
      "source": [
        "Phép tính nhân ma trận A * B chỉ thực hiện được khi số cột của A bằng số hàng của B, hay A có kích thước m * n và B có kích thước n * k.\n",
        "\n",
        "Ma trận C = A * B thì C có kích thước m * k và $C[i,j]=∑A[i,k]∗B[k,j]$\n",
        "\n",
        "\n",
        "![multi matrix](https://i0.wp.com/nttuan8.com/wp-content/uploads/2019/02/CodeCogsEqn-1-1.gif?resize=264%2C45&ssl=1)\n",
        "\n",
        "$C[1][1] = A[1][1] * B[1][1] + A[1][2] * B[2][1] = ax + cy$\n",
        "\n",
        "$C[2][1] = A[2][1] * B[1][1] + A[2][2] * B[2][1] = bx + dy$\n"
      ]
    },
    {
      "cell_type": "markdown",
      "metadata": {
        "id": "wXKi01n3myNk"
      },
      "source": [
        "###Element-wise multiplication matrix"
      ]
    },
    {
      "cell_type": "markdown",
      "metadata": {
        "id": "JswSj6Qjmk4Q"
      },
      "source": [
        "Ma trận A và B cùng kích thước m*n thì phép tính này cho ra ma trận C cùng kích thước m*n và C[i,j] = A[i,j] * B[i,j]. Hay là mỗi phần tử ở ma trận C bằng tích 2 phần tử tương ứng ở A và B.\n",
        "\n",
        "Kí hiệu C = A $\\otimes$ B, ví dụ: \n",
        "\n",
        "![Element-wise](https://i0.wp.com/nttuan8.com/wp-content/uploads/2019/02/CodeCogsEqn-4.gif?resize=400%2C45&ssl=1)"
      ]
    },
    {
      "cell_type": "markdown",
      "metadata": {
        "id": "2RzVy0zoj0NX"
      },
      "source": [
        "##Convolution"
      ]
    },
    {
      "cell_type": "markdown",
      "metadata": {
        "id": "3zPNunT9j56B"
      },
      "source": [
        "###Convolution"
      ]
    },
    {
      "cell_type": "markdown",
      "metadata": {
        "id": "6OX-bRBtkemo"
      },
      "source": [
        "Ví dụ thực hiện trên ảnh xám, tức là ảnh được biểu diễn dưới dạng ma trận A kích thước m * n.\n",
        "\n",
        "**kernel** là một ma trận vuông kích thước k * k trong đó k là số lẻ. k có thể bằng 1, 3, 5, 7, 9,… Ví dụ kernel kích thước 3 * 3\n",
        "![kernel](https://i1.wp.com/nttuan8.com/wp-content/uploads/2019/03/CodeCogsEqn-13-1.gif?resize=135%2C67&ssl=1)\n",
        "\n",
        "Kí hiệu phép tính convolution ($\\otimes$), kí hiệu $Y=X⊗W$\n",
        "\n",
        "Với mỗi phần tử $x_{ij}$​ trong ma trận $X$ lấy ra một ma trận có kích thước bằng kích thước của kernel $W$ có phần tử $x_{ij}$​ làm trung tâm (đây là vì sao kích thước của kernel thường lẻ) gọi là ma trận $A$. Sau đó tính tổng các phần tử của phép tính element-wise của ma trận $A$ và ma trận $W$, rồi viết vào ma trận kết quả $Y$.\n",
        "\n",
        "![convolution example](https://i0.wp.com/nttuan8.com/wp-content/uploads/2019/03/c1.png?resize=768%2C356&ssl=1)\n",
        "\n",
        "Ví dụ khi tính tại $x_{22}$ (ô khoanh đỏ trong hình), ma trận $A$ cùng kích thước với $W$, có $x_{22}$​ làm trung tâm có màu nền da cam như trong hình. Sau đó tính $y_{11} = sum(A \\otimes W) = x_{11}*w_{11} + x_{12}*w_{12} + x_{13}*w_{13} + x_{21}*w_{21} + x_{22}*w_{22} + x_{23}*w_{23} + x_{31}*w_{31} + x_{32}*w_{32} + x_{33}*w_{33} = 4$. Và làm tương tự với các phần tử còn lại trong ma trận.\n",
        "\n",
        "Để ý thấy ma trận Y có kích thước nhỏ hơn ma trận $X$. Kích thước của ma trận $Y$ là $(m-k+1) * (n-k+1)$.\n",
        "\n",
        "![convoled Feature](https://i1.wp.com/nttuan8.com/wp-content/uploads/2019/03/giphy.gif?resize=526%2C384&ssl=1)\n",
        "\n",
        "Do với cách tính như vậy thì sẽ không thể nào tính được các điểm ngoài viền. Ví dụ như $x_{11}$\n",
        "\n",
        "![Matrix border](https://i0.wp.com/nttuan8.com/wp-content/uploads/2019/03/c2.png?resize=300%2C269&ssl=1)"
      ]
    },
    {
      "cell_type": "markdown",
      "metadata": {
        "id": "_RIIGJpuj-Rx"
      },
      "source": [
        "###Padding"
      ]
    },
    {
      "cell_type": "markdown",
      "metadata": {
        "id": "AT8L7n2zqv5R"
      },
      "source": [
        "Như ở trên thì mỗi lần thực hiện phép tính convolution xong thì kích thước ma trận $Y$ đều nhỏ hơn $X$. Tuy nhiên giờ ta muốn ma trận $Y$ thu được có kích thước bằng ma trận $X =>$ Tìm cách giải quyết cho các phần tử ở viền $=>$ Thêm giá trị 0 ở viền ngoài ma trận $X$.\n",
        "\n",
        "![Padding](https://i0.wp.com/nttuan8.com/wp-content/uploads/2019/03/c3.png?w=490&ssl=1)\n",
        "\n",
        "Phép tính này gọi là convolution với **padding=1.** Padding=k nghĩa là thêm k vector 0 vào mỗi phía của ma trận."
      ]
    },
    {
      "cell_type": "markdown",
      "metadata": {
        "id": "fYVDFMSekEDr"
      },
      "source": [
        "###Stride"
      ]
    },
    {
      "cell_type": "markdown",
      "metadata": {
        "id": "orDjYm5XrkyQ"
      },
      "source": [
        "Như ở trên ta thực hiện tuần tự các phần tử trong ma trận $X$, thu được ma trận $Y$ cùng kích thước ma trận $X$, ta gọi là **stride=1**.\n",
        "\n",
        "![stride=1,padding=1](https://i0.wp.com/nttuan8.com/wp-content/uploads/2019/03/c4.png?w=491&ssl=1)\n",
        "\n",
        "stride=1,padding=1\n",
        "\n",
        "Tuy nhiên nếu stride=k (k > 1) thì ta chỉ thực hiện phép tính convolution trên các phần tử $x_{1+i*k,1+j*k}$​. Ví dụ k = 2.\n",
        "\n",
        "![stride=2](https://i2.wp.com/nttuan8.com/wp-content/uploads/2019/03/c5.png?w=492&ssl=1)\n",
        "\n",
        "\n",
        "**Hiểu đơn giản là bắt đầu từ vị trí $x_{11}$​ sau đó nhảy k bước theo chiều dọc và ngang cho đến hết ma trận $X$.**\n",
        "\n",
        "\n",
        "Công thức tổng quát cho phép tính convolution của ma trận $X$ kích thước m * n với kernel kích thước k * k, stride = s, padding = p ra ma trận $Y$ kích thước $\\displaystyle(\\frac{m-k+2p}{s}+1) * (\\frac{n-k+2p}{s}+1)$\n",
        "\n",
        "Stride thường dùng để giảm kích thước của ma trận sau phép tính convolution."
      ]
    },
    {
      "cell_type": "markdown",
      "metadata": {
        "id": "e3zVmvZ6kOXw"
      },
      "source": [
        "###Meaning"
      ]
    },
    {
      "cell_type": "markdown",
      "metadata": {
        "id": "_rCATLtvtJ1x"
      },
      "source": [
        "Mục đích của phép tính convolution trên ảnh là làm mở, làm nét ảnh; xác định các đường;… Mỗi kernel khác nhau thì sẽ phép tính convolution sẽ có ý nghĩa khác nhau. Ví dụ:\n",
        "\n",
        "![Example](https://i2.wp.com/nttuan8.com/wp-content/uploads/2019/03/purpose.png?w=670&ssl=1)\n"
      ]
    },
    {
      "cell_type": "markdown",
      "metadata": {
        "id": "6OHFlVd7-OHV"
      },
      "source": [
        "##Parameters vs Hyperparameters\n",
        "\n"
      ]
    },
    {
      "cell_type": "markdown",
      "metadata": {
        "id": "-mIB3G7j-Z0i"
      },
      "source": [
        "Sự khác biệt chính giữa **Parameters** vs **Hyperparameters** là các **Parameters** được mô hình học trong thời gian đào tạo, trong khi **Hyperparameters** có thể được thay đổi trước khi đào tạo mô hình và ta phải tự chọn qua kinh ngiệm.\n",
        "\n",
        "Các **Parameters** của mạng neuron sâu là $W$ và $b$, mô hình cập nhật trong bước **Backward propagation**. Mặt khác, có rất nhiều **Hyperparameters** cho một DNN,, bao gồm:\n",
        "- Learning rate $\\alpha$\n",
        "- Number of iterations\n",
        "- Number of hidden layers\n",
        "- Units in each hidden layer\n",
        "- Chọn activation function"
      ]
    },
    {
      "cell_type": "markdown",
      "metadata": {
        "id": "HEHQpw7HFbf6"
      },
      "source": [
        "##Chain rule"
      ]
    },
    {
      "cell_type": "markdown",
      "metadata": {
        "id": "A29_ADeNFh-n"
      },
      "source": [
        "Đạo hàm của hàm hợp có thể được biễu diễn như sau:\n",
        "\n",
        "![image.png](data:image/png;base64,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)"
      ]
    },
    {
      "cell_type": "markdown",
      "source": [
        "![image.png](data:image/png;base64,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)"
      ],
      "metadata": {
        "id": "tYyWRcALwmzc"
      }
    },
    {
      "cell_type": "markdown",
      "source": [
        "![image.png](data:image/png;base64,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)"
      ],
      "metadata": {
        "id": "Mo2FlAgswp_D"
      }
    },
    {
      "cell_type": "code",
      "source": [
        ""
      ],
      "metadata": {
        "id": "MGa56HW_wjvy"
      },
      "execution_count": null,
      "outputs": []
    }
  ]
}